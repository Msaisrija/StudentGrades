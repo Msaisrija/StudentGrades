{
 "cells": [
  {
   "cell_type": "code",
   "execution_count": 7,
   "id": "56027334-58f7-439a-9ae8-8c83b0b24273",
   "metadata": {},
   "outputs": [
    {
     "name": "stdin",
     "output_type": "stream",
     "text": [
      "Enter number of marks in first_language(Telugu/Hindi/Sanskrit)  :  90\n",
      "Enter number of marks in second_language(Telugu/Hindi/Sanskrit) :  98\n",
      "Enter number of marks in third_language(English) :  97\n",
      "Enter number of marks in Maths :  92\n",
      "Enter number of marks in Sceince:  89\n",
      "Enter number of marks in Social :  94\n"
     ]
    },
    {
     "name": "stdout",
     "output_type": "stream",
     "text": [
      "Average Score is  93.33333333333333\n",
      "Your grade is:O\n",
      "Outstanding Score \n"
     ]
    }
   ],
   "source": [
    "first_language=float(input(\"Enter number of marks in first_language(Telugu/Hindi/Sanskrit)  : \"))\n",
    "second_language=float(input(\"Enter number of marks in second_language(Telugu/Hindi/Sanskrit) : \"))\n",
    "third_language=float(input(\"Enter number of marks in third_language(English) : \"))\n",
    "maths=float(input(\"Enter number of marks in Maths : \"))\n",
    "sceience=float(input(\"Enter number of marks in Sceince: \"))\n",
    "social=float(input(\"Enter number of marks in Social : \"))\n",
    "totalScore=first_language+second_language+third_language+maths+sceience+social\n",
    "numOfSubjects=6\n",
    "averageScore=totalScore/numOfSubjects\n",
    "print(\"Average Score is \",averageScore)\n",
    "if averageScore>=90 and averageScore<=100 :\n",
    "    print(\"Your grade is:O\")\n",
    "    print(\"Outstanding Score .Excellent Work\")\n",
    "elif averageScore>=80 and averageScore<90:\n",
    "     print(\"Your grade is:  A\")\n",
    "     print(\"Excellent Score\")\n",
    "elif averageScore>=70 and averageScore<80:\n",
    "     print(\"Your grade is:  B\")\n",
    "     print(\"Good Score\")\n",
    "elif averageScore>=60 and averageScore<70:\n",
    "     print(\"Your grade is:  C\")\n",
    "     print(\"You can improve your  Score\")\n",
    "elif averageScore>=50 and averageScore<60:\n",
    "     print(\"Your grade is:  D\")\n",
    "     print(\"You should improve your Score\")\n",
    "elif averageScore>=40 and averageScore<50:\n",
    "     print(\"Your grade is:  F\")\n",
    "     print(\"You Failed,But its fine ,You can try hard  \")  \n",
    "else:\n",
    "    print(\"invalid expression\")\n",
    "    \n",
    "       "
   ]
  },
  {
   "cell_type": "code",
   "execution_count": null,
   "id": "eef64374-1605-46b8-958b-3de479e05593",
   "metadata": {},
   "outputs": [],
   "source": []
  }
 ],
 "metadata": {
  "kernelspec": {
   "display_name": "Python 3 (ipykernel)",
   "language": "python",
   "name": "python3"
  },
  "language_info": {
   "codemirror_mode": {
    "name": "ipython",
    "version": 3
   },
   "file_extension": ".py",
   "mimetype": "text/x-python",
   "name": "python",
   "nbconvert_exporter": "python",
   "pygments_lexer": "ipython3",
   "version": "3.12.4"
  }
 },
 "nbformat": 4,
 "nbformat_minor": 5
}
